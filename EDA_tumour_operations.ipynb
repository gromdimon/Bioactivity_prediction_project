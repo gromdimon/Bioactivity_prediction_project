{
  "nbformat": 4,
  "nbformat_minor": 0,
  "metadata": {
    "colab": {
      "name": "EDA.ipynb",
      "provenance": [],
      "collapsed_sections": [],
      "authorship_tag": "ABX9TyMuXQjzilI+IqrZqprVehhA",
      "include_colab_link": true
    },
    "kernelspec": {
      "display_name": "Python 3",
      "name": "python3"
    },
    "language_info": {
      "name": "python"
    }
  },
  "cells": [
    {
      "cell_type": "markdown",
      "metadata": {
        "id": "view-in-github",
        "colab_type": "text"
      },
      "source": [
        "<a href=\"https://colab.research.google.com/github/gromdimon/code/blob/main/EDA_tumour_operations.ipynb\" target=\"_parent\"><img src=\"https://colab.research.google.com/assets/colab-badge.svg\" alt=\"Open In Colab\"/></a>"
      ]
    },
    {
      "cell_type": "code",
      "metadata": {
        "id": "6AiDsPgw6BZ7"
      },
      "source": [
        "# importing libraries\n",
        "import pandas as pd\n",
        "import numpy as np\n",
        "import seaborn as sns\n",
        "import matplotlib.pyplot as plt"
      ],
      "execution_count": 2,
      "outputs": []
    },
    {
      "cell_type": "code",
      "metadata": {
        "colab": {
          "base_uri": "https://localhost:8080/",
          "height": 493
        },
        "id": "6Ul94Ch0RsNF",
        "outputId": "d0b98dd2-ec2e-4a64-efea-4a92e358d6e6"
      },
      "source": [
        "# Downloading data\n",
        "data_path = 'https://github.com/gromdimon/Files/raw/main/BRCA.csv'\n",
        "data = pd.read_csv(data_path)\n",
        "data.tail(10)"
      ],
      "execution_count": 8,
      "outputs": [
        {
          "output_type": "execute_result",
          "data": {
            "text/html": [
              "<div>\n",
              "<style scoped>\n",
              "    .dataframe tbody tr th:only-of-type {\n",
              "        vertical-align: middle;\n",
              "    }\n",
              "\n",
              "    .dataframe tbody tr th {\n",
              "        vertical-align: top;\n",
              "    }\n",
              "\n",
              "    .dataframe thead th {\n",
              "        text-align: right;\n",
              "    }\n",
              "</style>\n",
              "<table border=\"1\" class=\"dataframe\">\n",
              "  <thead>\n",
              "    <tr style=\"text-align: right;\">\n",
              "      <th></th>\n",
              "      <th>Patient_ID</th>\n",
              "      <th>Age</th>\n",
              "      <th>Gender</th>\n",
              "      <th>Protein1</th>\n",
              "      <th>Protein2</th>\n",
              "      <th>Protein3</th>\n",
              "      <th>Protein4</th>\n",
              "      <th>Tumour_Stage</th>\n",
              "      <th>Histology</th>\n",
              "      <th>ER status</th>\n",
              "      <th>PR status</th>\n",
              "      <th>HER2 status</th>\n",
              "      <th>Surgery_type</th>\n",
              "      <th>Date_of_Surgery</th>\n",
              "      <th>Date_of_Last_Visit</th>\n",
              "      <th>Patient_Status</th>\n",
              "    </tr>\n",
              "  </thead>\n",
              "  <tbody>\n",
              "    <tr>\n",
              "      <th>331</th>\n",
              "      <td>TCGA-A1-A0SG</td>\n",
              "      <td>61.0</td>\n",
              "      <td>FEMALE</td>\n",
              "      <td>-0.71947</td>\n",
              "      <td>2.54850</td>\n",
              "      <td>-0.15024</td>\n",
              "      <td>0.339680</td>\n",
              "      <td>II</td>\n",
              "      <td>Infiltrating Ductal Carcinoma</td>\n",
              "      <td>Positive</td>\n",
              "      <td>Positive</td>\n",
              "      <td>Negative</td>\n",
              "      <td>Lumpectomy</td>\n",
              "      <td>11-Nov-19</td>\n",
              "      <td>18-Jan-21</td>\n",
              "      <td>Dead</td>\n",
              "    </tr>\n",
              "    <tr>\n",
              "      <th>332</th>\n",
              "      <td>TCGA-A2-A0EU</td>\n",
              "      <td>79.0</td>\n",
              "      <td>FEMALE</td>\n",
              "      <td>0.47940</td>\n",
              "      <td>2.05590</td>\n",
              "      <td>-0.53136</td>\n",
              "      <td>-0.188480</td>\n",
              "      <td>I</td>\n",
              "      <td>Infiltrating Ductal Carcinoma</td>\n",
              "      <td>Positive</td>\n",
              "      <td>Positive</td>\n",
              "      <td>Positive</td>\n",
              "      <td>Lumpectomy</td>\n",
              "      <td>21-Nov-19</td>\n",
              "      <td>19-Feb-21</td>\n",
              "      <td>Dead</td>\n",
              "    </tr>\n",
              "    <tr>\n",
              "      <th>333</th>\n",
              "      <td>TCGA-B6-A40B</td>\n",
              "      <td>76.0</td>\n",
              "      <td>FEMALE</td>\n",
              "      <td>-0.24427</td>\n",
              "      <td>0.92556</td>\n",
              "      <td>-0.41823</td>\n",
              "      <td>-0.067848</td>\n",
              "      <td>I</td>\n",
              "      <td>Infiltrating Ductal Carcinoma</td>\n",
              "      <td>Positive</td>\n",
              "      <td>Positive</td>\n",
              "      <td>Negative</td>\n",
              "      <td>Lumpectomy</td>\n",
              "      <td>11-Nov-19</td>\n",
              "      <td>05-Jan-21</td>\n",
              "      <td>Dead</td>\n",
              "    </tr>\n",
              "    <tr>\n",
              "      <th>334</th>\n",
              "      <td>NaN</td>\n",
              "      <td>NaN</td>\n",
              "      <td>NaN</td>\n",
              "      <td>NaN</td>\n",
              "      <td>NaN</td>\n",
              "      <td>NaN</td>\n",
              "      <td>NaN</td>\n",
              "      <td>NaN</td>\n",
              "      <td>NaN</td>\n",
              "      <td>NaN</td>\n",
              "      <td>NaN</td>\n",
              "      <td>NaN</td>\n",
              "      <td>NaN</td>\n",
              "      <td>NaN</td>\n",
              "      <td>NaN</td>\n",
              "      <td>NaN</td>\n",
              "    </tr>\n",
              "    <tr>\n",
              "      <th>335</th>\n",
              "      <td>NaN</td>\n",
              "      <td>NaN</td>\n",
              "      <td>NaN</td>\n",
              "      <td>NaN</td>\n",
              "      <td>NaN</td>\n",
              "      <td>NaN</td>\n",
              "      <td>NaN</td>\n",
              "      <td>NaN</td>\n",
              "      <td>NaN</td>\n",
              "      <td>NaN</td>\n",
              "      <td>NaN</td>\n",
              "      <td>NaN</td>\n",
              "      <td>NaN</td>\n",
              "      <td>NaN</td>\n",
              "      <td>NaN</td>\n",
              "      <td>NaN</td>\n",
              "    </tr>\n",
              "    <tr>\n",
              "      <th>336</th>\n",
              "      <td>NaN</td>\n",
              "      <td>NaN</td>\n",
              "      <td>NaN</td>\n",
              "      <td>NaN</td>\n",
              "      <td>NaN</td>\n",
              "      <td>NaN</td>\n",
              "      <td>NaN</td>\n",
              "      <td>NaN</td>\n",
              "      <td>NaN</td>\n",
              "      <td>NaN</td>\n",
              "      <td>NaN</td>\n",
              "      <td>NaN</td>\n",
              "      <td>NaN</td>\n",
              "      <td>NaN</td>\n",
              "      <td>NaN</td>\n",
              "      <td>NaN</td>\n",
              "    </tr>\n",
              "    <tr>\n",
              "      <th>337</th>\n",
              "      <td>NaN</td>\n",
              "      <td>NaN</td>\n",
              "      <td>NaN</td>\n",
              "      <td>NaN</td>\n",
              "      <td>NaN</td>\n",
              "      <td>NaN</td>\n",
              "      <td>NaN</td>\n",
              "      <td>NaN</td>\n",
              "      <td>NaN</td>\n",
              "      <td>NaN</td>\n",
              "      <td>NaN</td>\n",
              "      <td>NaN</td>\n",
              "      <td>NaN</td>\n",
              "      <td>NaN</td>\n",
              "      <td>NaN</td>\n",
              "      <td>NaN</td>\n",
              "    </tr>\n",
              "    <tr>\n",
              "      <th>338</th>\n",
              "      <td>NaN</td>\n",
              "      <td>NaN</td>\n",
              "      <td>NaN</td>\n",
              "      <td>NaN</td>\n",
              "      <td>NaN</td>\n",
              "      <td>NaN</td>\n",
              "      <td>NaN</td>\n",
              "      <td>NaN</td>\n",
              "      <td>NaN</td>\n",
              "      <td>NaN</td>\n",
              "      <td>NaN</td>\n",
              "      <td>NaN</td>\n",
              "      <td>NaN</td>\n",
              "      <td>NaN</td>\n",
              "      <td>NaN</td>\n",
              "      <td>NaN</td>\n",
              "    </tr>\n",
              "    <tr>\n",
              "      <th>339</th>\n",
              "      <td>NaN</td>\n",
              "      <td>NaN</td>\n",
              "      <td>NaN</td>\n",
              "      <td>NaN</td>\n",
              "      <td>NaN</td>\n",
              "      <td>NaN</td>\n",
              "      <td>NaN</td>\n",
              "      <td>NaN</td>\n",
              "      <td>NaN</td>\n",
              "      <td>NaN</td>\n",
              "      <td>NaN</td>\n",
              "      <td>NaN</td>\n",
              "      <td>NaN</td>\n",
              "      <td>NaN</td>\n",
              "      <td>NaN</td>\n",
              "      <td>NaN</td>\n",
              "    </tr>\n",
              "    <tr>\n",
              "      <th>340</th>\n",
              "      <td>NaN</td>\n",
              "      <td>NaN</td>\n",
              "      <td>NaN</td>\n",
              "      <td>NaN</td>\n",
              "      <td>NaN</td>\n",
              "      <td>NaN</td>\n",
              "      <td>NaN</td>\n",
              "      <td>NaN</td>\n",
              "      <td>NaN</td>\n",
              "      <td>NaN</td>\n",
              "      <td>NaN</td>\n",
              "      <td>NaN</td>\n",
              "      <td>NaN</td>\n",
              "      <td>NaN</td>\n",
              "      <td>NaN</td>\n",
              "      <td>NaN</td>\n",
              "    </tr>\n",
              "  </tbody>\n",
              "</table>\n",
              "</div>"
            ],
            "text/plain": [
              "       Patient_ID   Age  ... Date_of_Last_Visit  Patient_Status\n",
              "331  TCGA-A1-A0SG  61.0  ...          18-Jan-21            Dead\n",
              "332  TCGA-A2-A0EU  79.0  ...          19-Feb-21            Dead\n",
              "333  TCGA-B6-A40B  76.0  ...          05-Jan-21            Dead\n",
              "334           NaN   NaN  ...                NaN             NaN\n",
              "335           NaN   NaN  ...                NaN             NaN\n",
              "336           NaN   NaN  ...                NaN             NaN\n",
              "337           NaN   NaN  ...                NaN             NaN\n",
              "338           NaN   NaN  ...                NaN             NaN\n",
              "339           NaN   NaN  ...                NaN             NaN\n",
              "340           NaN   NaN  ...                NaN             NaN\n",
              "\n",
              "[10 rows x 16 columns]"
            ]
          },
          "metadata": {},
          "execution_count": 8
        }
      ]
    },
    {
      "cell_type": "code",
      "metadata": {
        "colab": {
          "base_uri": "https://localhost:8080/"
        },
        "id": "7t2L0zP5SonT",
        "outputId": "4c12fd37-5312-4aa0-af22-8f37cecd7f4c"
      },
      "source": [
        "# Show the missing values\n",
        "data.isnull().sum()"
      ],
      "execution_count": 4,
      "outputs": [
        {
          "output_type": "execute_result",
          "data": {
            "text/plain": [
              "Patient_ID             7\n",
              "Age                    7\n",
              "Gender                 7\n",
              "Protein1               7\n",
              "Protein2               7\n",
              "Protein3               7\n",
              "Protein4               7\n",
              "Tumour_Stage           7\n",
              "Histology              7\n",
              "ER status              7\n",
              "PR status              7\n",
              "HER2 status            7\n",
              "Surgery_type           7\n",
              "Date_of_Surgery        7\n",
              "Date_of_Last_Visit    24\n",
              "Patient_Status        20\n",
              "dtype: int64"
            ]
          },
          "metadata": {},
          "execution_count": 4
        }
      ]
    },
    {
      "cell_type": "code",
      "metadata": {
        "colab": {
          "base_uri": "https://localhost:8080/"
        },
        "id": "1vw_AV8bS1pE",
        "outputId": "054a04e6-db44-495f-bfe4-c4207d5b853a"
      },
      "source": [
        "# Droping last rows without any data\n",
        "data_id = data[~data.Patient_ID.isnull()].copy()\n",
        "data_id.isnull().sum()"
      ],
      "execution_count": 6,
      "outputs": [
        {
          "output_type": "execute_result",
          "data": {
            "text/plain": [
              "Patient_ID             0\n",
              "Age                    0\n",
              "Gender                 0\n",
              "Protein1               0\n",
              "Protein2               0\n",
              "Protein3               0\n",
              "Protein4               0\n",
              "Tumour_Stage           0\n",
              "Histology              0\n",
              "ER status              0\n",
              "PR status              0\n",
              "HER2 status            0\n",
              "Surgery_type           0\n",
              "Date_of_Surgery        0\n",
              "Date_of_Last_Visit    17\n",
              "Patient_Status        13\n",
              "dtype: int64"
            ]
          },
          "metadata": {},
          "execution_count": 6
        }
      ]
    },
    {
      "cell_type": "code",
      "metadata": {
        "colab": {
          "base_uri": "https://localhost:8080/"
        },
        "id": "0LB2NYhSUIl3",
        "outputId": "89fa392b-7380-4ad5-c9bd-ceca517bc55f"
      },
      "source": [
        "data_id.shape"
      ],
      "execution_count": 7,
      "outputs": [
        {
          "output_type": "execute_result",
          "data": {
            "text/plain": [
              "(334, 16)"
            ]
          },
          "metadata": {},
          "execution_count": 7
        }
      ]
    },
    {
      "cell_type": "code",
      "metadata": {
        "colab": {
          "base_uri": "https://localhost:8080/",
          "height": 1000
        },
        "id": "4PHUTOSjVCqT",
        "outputId": "452c5573-83a2-4757-ed22-01c58239ed60"
      },
      "source": [
        "# Finding missing values in Last_visit column\n",
        "data_id.loc[data_id.Date_of_Last_Visit.isnull()]"
      ],
      "execution_count": 10,
      "outputs": [
        {
          "output_type": "execute_result",
          "data": {
            "text/html": [
              "<div>\n",
              "<style scoped>\n",
              "    .dataframe tbody tr th:only-of-type {\n",
              "        vertical-align: middle;\n",
              "    }\n",
              "\n",
              "    .dataframe tbody tr th {\n",
              "        vertical-align: top;\n",
              "    }\n",
              "\n",
              "    .dataframe thead th {\n",
              "        text-align: right;\n",
              "    }\n",
              "</style>\n",
              "<table border=\"1\" class=\"dataframe\">\n",
              "  <thead>\n",
              "    <tr style=\"text-align: right;\">\n",
              "      <th></th>\n",
              "      <th>Patient_ID</th>\n",
              "      <th>Age</th>\n",
              "      <th>Gender</th>\n",
              "      <th>Protein1</th>\n",
              "      <th>Protein2</th>\n",
              "      <th>Protein3</th>\n",
              "      <th>Protein4</th>\n",
              "      <th>Tumour_Stage</th>\n",
              "      <th>Histology</th>\n",
              "      <th>ER status</th>\n",
              "      <th>PR status</th>\n",
              "      <th>HER2 status</th>\n",
              "      <th>Surgery_type</th>\n",
              "      <th>Date_of_Surgery</th>\n",
              "      <th>Date_of_Last_Visit</th>\n",
              "      <th>Patient_Status</th>\n",
              "    </tr>\n",
              "  </thead>\n",
              "  <tbody>\n",
              "    <tr>\n",
              "      <th>7</th>\n",
              "      <td>TCGA-A7-A426</td>\n",
              "      <td>50.0</td>\n",
              "      <td>FEMALE</td>\n",
              "      <td>0.672490</td>\n",
              "      <td>1.27900</td>\n",
              "      <td>-0.321070</td>\n",
              "      <td>-0.112390</td>\n",
              "      <td>III</td>\n",
              "      <td>Infiltrating Ductal Carcinoma</td>\n",
              "      <td>Positive</td>\n",
              "      <td>Positive</td>\n",
              "      <td>Negative</td>\n",
              "      <td>Simple Mastectomy</td>\n",
              "      <td>16-May-17</td>\n",
              "      <td>NaN</td>\n",
              "      <td>NaN</td>\n",
              "    </tr>\n",
              "    <tr>\n",
              "      <th>22</th>\n",
              "      <td>TCGA-AN-A0FY</td>\n",
              "      <td>55.0</td>\n",
              "      <td>FEMALE</td>\n",
              "      <td>0.330640</td>\n",
              "      <td>0.84757</td>\n",
              "      <td>-0.494660</td>\n",
              "      <td>0.116560</td>\n",
              "      <td>I</td>\n",
              "      <td>Infiltrating Lobular Carcinoma</td>\n",
              "      <td>Positive</td>\n",
              "      <td>Positive</td>\n",
              "      <td>Negative</td>\n",
              "      <td>Modified Radical Mastectomy</td>\n",
              "      <td>07-Nov-17</td>\n",
              "      <td>NaN</td>\n",
              "      <td>NaN</td>\n",
              "    </tr>\n",
              "    <tr>\n",
              "      <th>99</th>\n",
              "      <td>TCGA-A8-A06O</td>\n",
              "      <td>60.0</td>\n",
              "      <td>FEMALE</td>\n",
              "      <td>0.532420</td>\n",
              "      <td>1.54110</td>\n",
              "      <td>-1.009500</td>\n",
              "      <td>-0.125880</td>\n",
              "      <td>I</td>\n",
              "      <td>Infiltrating Ductal Carcinoma</td>\n",
              "      <td>Positive</td>\n",
              "      <td>Positive</td>\n",
              "      <td>Negative</td>\n",
              "      <td>Other</td>\n",
              "      <td>11-Dec-17</td>\n",
              "      <td>NaN</td>\n",
              "      <td>NaN</td>\n",
              "    </tr>\n",
              "    <tr>\n",
              "      <th>111</th>\n",
              "      <td>TCGA-MS-A51U</td>\n",
              "      <td>44.0</td>\n",
              "      <td>FEMALE</td>\n",
              "      <td>-0.278840</td>\n",
              "      <td>2.16880</td>\n",
              "      <td>-0.462330</td>\n",
              "      <td>0.272200</td>\n",
              "      <td>II</td>\n",
              "      <td>Infiltrating Ductal Carcinoma</td>\n",
              "      <td>Positive</td>\n",
              "      <td>Positive</td>\n",
              "      <td>Negative</td>\n",
              "      <td>Modified Radical Mastectomy</td>\n",
              "      <td>20-Jan-18</td>\n",
              "      <td>NaN</td>\n",
              "      <td>NaN</td>\n",
              "    </tr>\n",
              "    <tr>\n",
              "      <th>170</th>\n",
              "      <td>TCGA-AR-A0U2</td>\n",
              "      <td>47.0</td>\n",
              "      <td>FEMALE</td>\n",
              "      <td>0.515580</td>\n",
              "      <td>2.65020</td>\n",
              "      <td>-0.103130</td>\n",
              "      <td>-0.045725</td>\n",
              "      <td>III</td>\n",
              "      <td>Infiltrating Lobular Carcinoma</td>\n",
              "      <td>Positive</td>\n",
              "      <td>Positive</td>\n",
              "      <td>Negative</td>\n",
              "      <td>Modified Radical Mastectomy</td>\n",
              "      <td>29-Jul-18</td>\n",
              "      <td>NaN</td>\n",
              "      <td>Dead</td>\n",
              "    </tr>\n",
              "    <tr>\n",
              "      <th>182</th>\n",
              "      <td>TCGA-C8-A1HI</td>\n",
              "      <td>40.0</td>\n",
              "      <td>FEMALE</td>\n",
              "      <td>-1.455300</td>\n",
              "      <td>-0.74177</td>\n",
              "      <td>1.133600</td>\n",
              "      <td>-0.839700</td>\n",
              "      <td>III</td>\n",
              "      <td>Infiltrating Lobular Carcinoma</td>\n",
              "      <td>Positive</td>\n",
              "      <td>Positive</td>\n",
              "      <td>Negative</td>\n",
              "      <td>Other</td>\n",
              "      <td>07-Sep-18</td>\n",
              "      <td>NaN</td>\n",
              "      <td>NaN</td>\n",
              "    </tr>\n",
              "    <tr>\n",
              "      <th>189</th>\n",
              "      <td>TCGA-AO-A03O</td>\n",
              "      <td>69.0</td>\n",
              "      <td>FEMALE</td>\n",
              "      <td>-0.757790</td>\n",
              "      <td>-0.33780</td>\n",
              "      <td>0.561410</td>\n",
              "      <td>0.208300</td>\n",
              "      <td>II</td>\n",
              "      <td>Infiltrating Lobular Carcinoma</td>\n",
              "      <td>Positive</td>\n",
              "      <td>Positive</td>\n",
              "      <td>Negative</td>\n",
              "      <td>Modified Radical Mastectomy</td>\n",
              "      <td>07-Oct-18</td>\n",
              "      <td>NaN</td>\n",
              "      <td>Dead</td>\n",
              "    </tr>\n",
              "    <tr>\n",
              "      <th>196</th>\n",
              "      <td>TCGA-C8-A12U</td>\n",
              "      <td>46.0</td>\n",
              "      <td>FEMALE</td>\n",
              "      <td>-0.010999</td>\n",
              "      <td>0.86749</td>\n",
              "      <td>0.281570</td>\n",
              "      <td>-0.545880</td>\n",
              "      <td>II</td>\n",
              "      <td>Infiltrating Lobular Carcinoma</td>\n",
              "      <td>Positive</td>\n",
              "      <td>Positive</td>\n",
              "      <td>Negative</td>\n",
              "      <td>Other</td>\n",
              "      <td>10-Jun-19</td>\n",
              "      <td>NaN</td>\n",
              "      <td>NaN</td>\n",
              "    </tr>\n",
              "    <tr>\n",
              "      <th>206</th>\n",
              "      <td>TCGA-E9-A1NH</td>\n",
              "      <td>71.0</td>\n",
              "      <td>FEMALE</td>\n",
              "      <td>0.394090</td>\n",
              "      <td>1.70540</td>\n",
              "      <td>0.035642</td>\n",
              "      <td>1.441000</td>\n",
              "      <td>II</td>\n",
              "      <td>Infiltrating Lobular Carcinoma</td>\n",
              "      <td>Positive</td>\n",
              "      <td>Positive</td>\n",
              "      <td>Negative</td>\n",
              "      <td>Modified Radical Mastectomy</td>\n",
              "      <td>26-Nov-18</td>\n",
              "      <td>NaN</td>\n",
              "      <td>NaN</td>\n",
              "    </tr>\n",
              "    <tr>\n",
              "      <th>219</th>\n",
              "      <td>TCGA-C8-A12X</td>\n",
              "      <td>62.0</td>\n",
              "      <td>FEMALE</td>\n",
              "      <td>0.649340</td>\n",
              "      <td>1.81680</td>\n",
              "      <td>0.279260</td>\n",
              "      <td>0.132280</td>\n",
              "      <td>II</td>\n",
              "      <td>Infiltrating Lobular Carcinoma</td>\n",
              "      <td>Positive</td>\n",
              "      <td>Positive</td>\n",
              "      <td>Negative</td>\n",
              "      <td>Other</td>\n",
              "      <td>20-Jun-19</td>\n",
              "      <td>NaN</td>\n",
              "      <td>NaN</td>\n",
              "    </tr>\n",
              "    <tr>\n",
              "      <th>221</th>\n",
              "      <td>TCGA-C8-A12O</td>\n",
              "      <td>50.0</td>\n",
              "      <td>FEMALE</td>\n",
              "      <td>-0.322890</td>\n",
              "      <td>0.98848</td>\n",
              "      <td>-0.293130</td>\n",
              "      <td>-0.261700</td>\n",
              "      <td>II</td>\n",
              "      <td>Infiltrating Ductal Carcinoma</td>\n",
              "      <td>Positive</td>\n",
              "      <td>Positive</td>\n",
              "      <td>Negative</td>\n",
              "      <td>Other</td>\n",
              "      <td>16-Nov-18</td>\n",
              "      <td>NaN</td>\n",
              "      <td>NaN</td>\n",
              "    </tr>\n",
              "    <tr>\n",
              "      <th>265</th>\n",
              "      <td>TCGA-BH-A18S</td>\n",
              "      <td>79.0</td>\n",
              "      <td>FEMALE</td>\n",
              "      <td>0.978250</td>\n",
              "      <td>1.71050</td>\n",
              "      <td>-0.656300</td>\n",
              "      <td>0.269100</td>\n",
              "      <td>I</td>\n",
              "      <td>Infiltrating Ductal Carcinoma</td>\n",
              "      <td>Positive</td>\n",
              "      <td>Positive</td>\n",
              "      <td>Negative</td>\n",
              "      <td>Other</td>\n",
              "      <td>05-Apr-19</td>\n",
              "      <td>NaN</td>\n",
              "      <td>Dead</td>\n",
              "    </tr>\n",
              "    <tr>\n",
              "      <th>283</th>\n",
              "      <td>TCGA-BH-A18N</td>\n",
              "      <td>88.0</td>\n",
              "      <td>FEMALE</td>\n",
              "      <td>-0.603350</td>\n",
              "      <td>1.38250</td>\n",
              "      <td>0.403570</td>\n",
              "      <td>0.269210</td>\n",
              "      <td>II</td>\n",
              "      <td>Infiltrating Ductal Carcinoma</td>\n",
              "      <td>Positive</td>\n",
              "      <td>Positive</td>\n",
              "      <td>Negative</td>\n",
              "      <td>Modified Radical Mastectomy</td>\n",
              "      <td>04-Jun-19</td>\n",
              "      <td>NaN</td>\n",
              "      <td>Dead</td>\n",
              "    </tr>\n",
              "    <tr>\n",
              "      <th>285</th>\n",
              "      <td>TCGA-AC-A5EI</td>\n",
              "      <td>88.0</td>\n",
              "      <td>FEMALE</td>\n",
              "      <td>-2.340900</td>\n",
              "      <td>0.37246</td>\n",
              "      <td>0.208450</td>\n",
              "      <td>-1.641100</td>\n",
              "      <td>I</td>\n",
              "      <td>Infiltrating Ductal Carcinoma</td>\n",
              "      <td>Positive</td>\n",
              "      <td>Positive</td>\n",
              "      <td>Negative</td>\n",
              "      <td>Simple Mastectomy</td>\n",
              "      <td>04-Jun-19</td>\n",
              "      <td>NaN</td>\n",
              "      <td>NaN</td>\n",
              "    </tr>\n",
              "    <tr>\n",
              "      <th>286</th>\n",
              "      <td>TCGA-A8-A081</td>\n",
              "      <td>80.0</td>\n",
              "      <td>FEMALE</td>\n",
              "      <td>0.670770</td>\n",
              "      <td>-0.71039</td>\n",
              "      <td>0.186480</td>\n",
              "      <td>0.146640</td>\n",
              "      <td>II</td>\n",
              "      <td>Infiltrating Lobular Carcinoma</td>\n",
              "      <td>Positive</td>\n",
              "      <td>Positive</td>\n",
              "      <td>Negative</td>\n",
              "      <td>Other</td>\n",
              "      <td>14-Jun-19</td>\n",
              "      <td>NaN</td>\n",
              "      <td>NaN</td>\n",
              "    </tr>\n",
              "    <tr>\n",
              "      <th>305</th>\n",
              "      <td>TCGA-BH-A18J</td>\n",
              "      <td>56.0</td>\n",
              "      <td>FEMALE</td>\n",
              "      <td>-0.675420</td>\n",
              "      <td>0.26937</td>\n",
              "      <td>-0.086603</td>\n",
              "      <td>1.071400</td>\n",
              "      <td>III</td>\n",
              "      <td>Infiltrating Ductal Carcinoma</td>\n",
              "      <td>Positive</td>\n",
              "      <td>Positive</td>\n",
              "      <td>Negative</td>\n",
              "      <td>Modified Radical Mastectomy</td>\n",
              "      <td>23-Aug-19</td>\n",
              "      <td>NaN</td>\n",
              "      <td>NaN</td>\n",
              "    </tr>\n",
              "    <tr>\n",
              "      <th>321</th>\n",
              "      <td>TCGA-A8-A083</td>\n",
              "      <td>67.0</td>\n",
              "      <td>FEMALE</td>\n",
              "      <td>0.317420</td>\n",
              "      <td>-0.55585</td>\n",
              "      <td>0.356570</td>\n",
              "      <td>0.797330</td>\n",
              "      <td>II</td>\n",
              "      <td>Infiltrating Ductal Carcinoma</td>\n",
              "      <td>Positive</td>\n",
              "      <td>Positive</td>\n",
              "      <td>Negative</td>\n",
              "      <td>Other</td>\n",
              "      <td>02-Oct-19</td>\n",
              "      <td>NaN</td>\n",
              "      <td>NaN</td>\n",
              "    </tr>\n",
              "  </tbody>\n",
              "</table>\n",
              "</div>"
            ],
            "text/plain": [
              "       Patient_ID   Age  ... Date_of_Last_Visit  Patient_Status\n",
              "7    TCGA-A7-A426  50.0  ...                NaN             NaN\n",
              "22   TCGA-AN-A0FY  55.0  ...                NaN             NaN\n",
              "99   TCGA-A8-A06O  60.0  ...                NaN             NaN\n",
              "111  TCGA-MS-A51U  44.0  ...                NaN             NaN\n",
              "170  TCGA-AR-A0U2  47.0  ...                NaN            Dead\n",
              "182  TCGA-C8-A1HI  40.0  ...                NaN             NaN\n",
              "189  TCGA-AO-A03O  69.0  ...                NaN            Dead\n",
              "196  TCGA-C8-A12U  46.0  ...                NaN             NaN\n",
              "206  TCGA-E9-A1NH  71.0  ...                NaN             NaN\n",
              "219  TCGA-C8-A12X  62.0  ...                NaN             NaN\n",
              "221  TCGA-C8-A12O  50.0  ...                NaN             NaN\n",
              "265  TCGA-BH-A18S  79.0  ...                NaN            Dead\n",
              "283  TCGA-BH-A18N  88.0  ...                NaN            Dead\n",
              "285  TCGA-AC-A5EI  88.0  ...                NaN             NaN\n",
              "286  TCGA-A8-A081  80.0  ...                NaN             NaN\n",
              "305  TCGA-BH-A18J  56.0  ...                NaN             NaN\n",
              "321  TCGA-A8-A083  67.0  ...                NaN             NaN\n",
              "\n",
              "[17 rows x 16 columns]"
            ]
          },
          "metadata": {},
          "execution_count": 10
        }
      ]
    },
    {
      "cell_type": "code",
      "metadata": {
        "colab": {
          "base_uri": "https://localhost:8080/"
        },
        "id": "JYYNRBYTVtjv",
        "outputId": "146297bf-f209-4307-ae90-66d40a8cde4c"
      },
      "source": [
        "# Transforming data in Last_visit column\n",
        "clear_visit = data_id.Date_of_Last_Visit.fillna('10-Jun-99')\n",
        "clear_visit.isnull().sum()"
      ],
      "execution_count": 53,
      "outputs": [
        {
          "output_type": "execute_result",
          "data": {
            "text/plain": [
              "0"
            ]
          },
          "metadata": {},
          "execution_count": 53
        }
      ]
    },
    {
      "cell_type": "code",
      "metadata": {
        "colab": {
          "base_uri": "https://localhost:8080/"
        },
        "id": "rwxrhlmLZ41Z",
        "outputId": "ee520511-57b3-4f44-864b-1817d4d0438a"
      },
      "source": [
        "# Making new dataframe\n",
        "clear_visit.rename('last_visit', inplace=True)\n",
        "clear_data = pd.concat([data_id, clear_visit], axis=1)\n",
        "clear_data.drop(columns='Date_of_Last_Visit', inplace=True)\n",
        "clear_data.shape"
      ],
      "execution_count": 54,
      "outputs": [
        {
          "output_type": "execute_result",
          "data": {
            "text/plain": [
              "(334, 16)"
            ]
          },
          "metadata": {},
          "execution_count": 54
        }
      ]
    },
    {
      "cell_type": "code",
      "metadata": {
        "colab": {
          "base_uri": "https://localhost:8080/"
        },
        "id": "v41Ad3dFcc3n",
        "outputId": "c809b9c8-d944-408a-846f-fb273e486414"
      },
      "source": [
        "# Proving imputation\n",
        "clear_data.isnull().sum()"
      ],
      "execution_count": 55,
      "outputs": [
        {
          "output_type": "execute_result",
          "data": {
            "text/plain": [
              "Patient_ID          0\n",
              "Age                 0\n",
              "Gender              0\n",
              "Protein1            0\n",
              "Protein2            0\n",
              "Protein3            0\n",
              "Protein4            0\n",
              "Tumour_Stage        0\n",
              "Histology           0\n",
              "ER status           0\n",
              "PR status           0\n",
              "HER2 status         0\n",
              "Surgery_type        0\n",
              "Date_of_Surgery     0\n",
              "Patient_Status     13\n",
              "last_visit          0\n",
              "dtype: int64"
            ]
          },
          "metadata": {},
          "execution_count": 55
        }
      ]
    },
    {
      "cell_type": "code",
      "metadata": {
        "id": "l6eNdzQDcnVw"
      },
      "source": [
        "# Drop rows, that can not show Patient status\n",
        "clear_data.dropna(axis=0, inplace=True)"
      ],
      "execution_count": 56,
      "outputs": []
    },
    {
      "cell_type": "code",
      "metadata": {
        "id": "WskoSbm9er1Z"
      },
      "source": [
        "# Changing format of time\n",
        "clear_data['date_of_surgery'] = pd.to_datetime(clear_data['Date_of_Surgery'], format=\"%d-%b-%y\")\n",
        "clear_data['date_of_last_visit'] = pd.to_datetime(clear_data['last_visit'], format=\"%d-%b-%y\", errors='ignore')\n",
        "clear_data.drop(columns=['Date_of_Surgery', 'last_visit'], inplace=True)"
      ],
      "execution_count": 59,
      "outputs": []
    },
    {
      "cell_type": "code",
      "metadata": {
        "id": "G0AZXuAkkGFF"
      },
      "source": [
        "# Changing Gender feature\n",
        "def gender_changer(inf):\n",
        "  if inf == 'FEMALE':\n",
        "    return 0\n",
        "  if inf == 'MALE':\n",
        "    return 1\n",
        "# 0 is Female, 1 is Male"
      ],
      "execution_count": 61,
      "outputs": []
    },
    {
      "cell_type": "code",
      "metadata": {
        "id": "a1l9_a_OlVck"
      },
      "source": [
        "# Applying this feature\n",
        "clear_data['gender'] = clear_data['Gender'].apply(gender_changer)\n",
        "clear_data.drop(columns='Gender', inplace=True)"
      ],
      "execution_count": 65,
      "outputs": []
    },
    {
      "cell_type": "code",
      "metadata": {
        "colab": {
          "base_uri": "https://localhost:8080/"
        },
        "id": "TZ4iT-tinodk",
        "outputId": "6c2f102b-4423-48e2-dd25-9e9707690c48"
      },
      "source": [
        "# Evaluation of Patient Satus \n",
        "clear_data.Patient_Status.value_counts()"
      ],
      "execution_count": 69,
      "outputs": [
        {
          "output_type": "execute_result",
          "data": {
            "text/plain": [
              "Alive    255\n",
              "Dead      66\n",
              "Name: Patient_Status, dtype: int64"
            ]
          },
          "metadata": {},
          "execution_count": 69
        }
      ]
    },
    {
      "cell_type": "code",
      "metadata": {
        "id": "o3mGh1sDoJHa"
      },
      "source": [
        "# Transformation\n",
        "def status_changer(inf):\n",
        "  if inf == 'Alive':\n",
        "    return 0\n",
        "  if inf == 'Dead':\n",
        "    return 1\n",
        "# 0 is Alive, 1 is Dead"
      ],
      "execution_count": 74,
      "outputs": []
    },
    {
      "cell_type": "code",
      "metadata": {
        "id": "sQVJ_KUqqHgz"
      },
      "source": [
        "clear_data['patient_status'] = clear_data['Patient_Status'].apply(status_changer)\n",
        "clear_data.drop(columns='Patient_Status', inplace=True)"
      ],
      "execution_count": 77,
      "outputs": []
    },
    {
      "cell_type": "code",
      "metadata": {
        "colab": {
          "base_uri": "https://localhost:8080/"
        },
        "id": "2aSm_8YzrUtH",
        "outputId": "d6d7833f-5467-4d57-c39a-aa6d68896b1c"
      },
      "source": [
        "# Doing the same with tumor stage\n",
        "clear_data.Tumour_Stage.value_counts()"
      ],
      "execution_count": 78,
      "outputs": [
        {
          "output_type": "execute_result",
          "data": {
            "text/plain": [
              "II     182\n",
              "III     78\n",
              "I       61\n",
              "Name: Tumour_Stage, dtype: int64"
            ]
          },
          "metadata": {},
          "execution_count": 78
        }
      ]
    },
    {
      "cell_type": "code",
      "metadata": {
        "id": "YYSe4nA8riAW"
      },
      "source": [
        "def tumour_changer(inf):\n",
        "  if inf == 'I':\n",
        "    return 1\n",
        "  if inf == 'II':\n",
        "    return 2\n",
        "  if inf == 'III':\n",
        "    return 3"
      ],
      "execution_count": 83,
      "outputs": []
    },
    {
      "cell_type": "code",
      "metadata": {
        "id": "XLjeuqT9r2Hi"
      },
      "source": [
        "clear_data['tumour_stage'] = clear_data['Tumour_Stage'].apply(tumour_changer)\n",
        "clear_data.drop(columns='Tumour_Stage', inplace=True)"
      ],
      "execution_count": 84,
      "outputs": []
    },
    {
      "cell_type": "code",
      "metadata": {
        "colab": {
          "base_uri": "https://localhost:8080/"
        },
        "id": "fD55McEZslU1",
        "outputId": "9986c853-88c9-4701-d9d6-4a3e598e1185"
      },
      "source": [
        "# Handling ER PR Her2\n",
        "print(clear_data.shape)\n",
        "print(clear_data['ER status'].value_counts())\n",
        "print(clear_data['HER2 status'].value_counts())\n",
        "print(clear_data['PR status'].value_counts())"
      ],
      "execution_count": 87,
      "outputs": [
        {
          "output_type": "stream",
          "text": [
            "(321, 16)\n",
            "Positive    321\n",
            "Name: ER status, dtype: int64\n",
            "Negative    292\n",
            "Positive     29\n",
            "Name: HER2 status, dtype: int64\n",
            "Positive    321\n",
            "Name: PR status, dtype: int64\n"
          ],
          "name": "stdout"
        }
      ]
    },
    {
      "cell_type": "code",
      "metadata": {
        "id": "oTz5JEwWvKsP"
      },
      "source": [
        "# Concatinating 2 colomns in one\n",
        "clear_data.rename(columns={'ER status': 'ER&PR_status'}, inplace=True)\n",
        "clear_data.drop(columns='PR status', inplace=True)"
      ],
      "execution_count": 90,
      "outputs": []
    },
    {
      "cell_type": "code",
      "metadata": {
        "colab": {
          "base_uri": "https://localhost:8080/"
        },
        "id": "StoM6XP7dgW0",
        "outputId": "e0bb4556-a668-45dd-9a6d-068bc2489652"
      },
      "source": [
        "# Show results of final dataframe after EDA\n",
        "clear_data.info()"
      ],
      "execution_count": 91,
      "outputs": [
        {
          "output_type": "stream",
          "text": [
            "<class 'pandas.core.frame.DataFrame'>\n",
            "Int64Index: 321 entries, 0 to 333\n",
            "Data columns (total 15 columns):\n",
            " #   Column              Non-Null Count  Dtype         \n",
            "---  ------              --------------  -----         \n",
            " 0   Patient_ID          321 non-null    object        \n",
            " 1   Age                 321 non-null    float64       \n",
            " 2   Protein1            321 non-null    float64       \n",
            " 3   Protein2            321 non-null    float64       \n",
            " 4   Protein3            321 non-null    float64       \n",
            " 5   Protein4            321 non-null    float64       \n",
            " 6   Histology           321 non-null    object        \n",
            " 7   ER&PR_status        321 non-null    object        \n",
            " 8   HER2 status         321 non-null    object        \n",
            " 9   Surgery_type        321 non-null    object        \n",
            " 10  date_of_surgery     321 non-null    datetime64[ns]\n",
            " 11  date_of_last_visit  321 non-null    datetime64[ns]\n",
            " 12  gender              321 non-null    int64         \n",
            " 13  patient_status      321 non-null    int64         \n",
            " 14  tumour_stage        321 non-null    int64         \n",
            "dtypes: datetime64[ns](2), float64(5), int64(3), object(5)\n",
            "memory usage: 40.1+ KB\n"
          ],
          "name": "stdout"
        }
      ]
    },
    {
      "cell_type": "code",
      "metadata": {
        "id": "z8mTODI-j9Av"
      },
      "source": [
        "# Downscale the data types to optimize memory allocation\n",
        "clear_data['Age'] = clear_data['Age'].astype('int32')\n",
        "clear_data['gender'] = clear_data['gender'].astype('int32')\n",
        "clear_data['patient_status'] = clear_data['patient_status'].astype('int32')\n",
        "clear_data['tumour_stage'] = clear_data['tumour_stage'].astype('int32')\n",
        "clear_data['Protein1'] = clear_data['Protein1'].astype('float32')\n",
        "clear_data['Protein2'] = clear_data['Protein2'].astype('float32')\n",
        "clear_data['Protein3'] = clear_data['Protein3'].astype('float32')\n",
        "clear_data['Protein4'] = clear_data['Protein4'].astype('float32')"
      ],
      "execution_count": 103,
      "outputs": []
    },
    {
      "cell_type": "code",
      "metadata": {
        "colab": {
          "base_uri": "https://localhost:8080/"
        },
        "id": "cB0PAUDgxYUI",
        "outputId": "9ea66e0d-4c62-4b36-d22e-3c020abd1615"
      },
      "source": [
        "# Final outlook on data\n",
        "clear_data.info()"
      ],
      "execution_count": 105,
      "outputs": [
        {
          "output_type": "stream",
          "text": [
            "<class 'pandas.core.frame.DataFrame'>\n",
            "Int64Index: 321 entries, 0 to 333\n",
            "Data columns (total 15 columns):\n",
            " #   Column              Non-Null Count  Dtype         \n",
            "---  ------              --------------  -----         \n",
            " 0   Patient_ID          321 non-null    object        \n",
            " 1   Age                 321 non-null    int32         \n",
            " 2   Protein1            321 non-null    float32       \n",
            " 3   Protein2            321 non-null    float32       \n",
            " 4   Protein3            321 non-null    float32       \n",
            " 5   Protein4            321 non-null    float32       \n",
            " 6   Histology           321 non-null    object        \n",
            " 7   ER&PR_status        321 non-null    object        \n",
            " 8   HER2 status         321 non-null    object        \n",
            " 9   Surgery_type        321 non-null    object        \n",
            " 10  date_of_surgery     321 non-null    datetime64[ns]\n",
            " 11  date_of_last_visit  321 non-null    datetime64[ns]\n",
            " 12  gender              321 non-null    int32         \n",
            " 13  patient_status      321 non-null    int32         \n",
            " 14  tumour_stage        321 non-null    int32         \n",
            "dtypes: datetime64[ns](2), float32(4), int32(4), object(5)\n",
            "memory usage: 30.1+ KB\n"
          ],
          "name": "stdout"
        }
      ]
    },
    {
      "cell_type": "code",
      "metadata": {
        "colab": {
          "base_uri": "https://localhost:8080/",
          "height": 770
        },
        "id": "3V7lOszM0HWY",
        "outputId": "eb788e14-ede9-4918-a827-37e91e98a1d0"
      },
      "source": [
        "clear_data"
      ],
      "execution_count": 107,
      "outputs": [
        {
          "output_type": "execute_result",
          "data": {
            "text/html": [
              "<div>\n",
              "<style scoped>\n",
              "    .dataframe tbody tr th:only-of-type {\n",
              "        vertical-align: middle;\n",
              "    }\n",
              "\n",
              "    .dataframe tbody tr th {\n",
              "        vertical-align: top;\n",
              "    }\n",
              "\n",
              "    .dataframe thead th {\n",
              "        text-align: right;\n",
              "    }\n",
              "</style>\n",
              "<table border=\"1\" class=\"dataframe\">\n",
              "  <thead>\n",
              "    <tr style=\"text-align: right;\">\n",
              "      <th></th>\n",
              "      <th>Patient_ID</th>\n",
              "      <th>Age</th>\n",
              "      <th>Protein1</th>\n",
              "      <th>Protein2</th>\n",
              "      <th>Protein3</th>\n",
              "      <th>Protein4</th>\n",
              "      <th>Histology</th>\n",
              "      <th>ER&amp;PR_status</th>\n",
              "      <th>HER2 status</th>\n",
              "      <th>Surgery_type</th>\n",
              "      <th>date_of_surgery</th>\n",
              "      <th>date_of_last_visit</th>\n",
              "      <th>gender</th>\n",
              "      <th>patient_status</th>\n",
              "      <th>tumour_stage</th>\n",
              "    </tr>\n",
              "  </thead>\n",
              "  <tbody>\n",
              "    <tr>\n",
              "      <th>0</th>\n",
              "      <td>TCGA-D8-A1XD</td>\n",
              "      <td>36</td>\n",
              "      <td>0.080353</td>\n",
              "      <td>0.42638</td>\n",
              "      <td>0.54715</td>\n",
              "      <td>0.273680</td>\n",
              "      <td>Infiltrating Ductal Carcinoma</td>\n",
              "      <td>Positive</td>\n",
              "      <td>Negative</td>\n",
              "      <td>Modified Radical Mastectomy</td>\n",
              "      <td>2017-01-15</td>\n",
              "      <td>2017-06-19</td>\n",
              "      <td>0</td>\n",
              "      <td>0</td>\n",
              "      <td>3</td>\n",
              "    </tr>\n",
              "    <tr>\n",
              "      <th>1</th>\n",
              "      <td>TCGA-EW-A1OX</td>\n",
              "      <td>43</td>\n",
              "      <td>-0.420320</td>\n",
              "      <td>0.57807</td>\n",
              "      <td>0.61447</td>\n",
              "      <td>-0.031505</td>\n",
              "      <td>Mucinous Carcinoma</td>\n",
              "      <td>Positive</td>\n",
              "      <td>Negative</td>\n",
              "      <td>Lumpectomy</td>\n",
              "      <td>2017-04-26</td>\n",
              "      <td>2018-11-09</td>\n",
              "      <td>0</td>\n",
              "      <td>1</td>\n",
              "      <td>2</td>\n",
              "    </tr>\n",
              "    <tr>\n",
              "      <th>2</th>\n",
              "      <td>TCGA-A8-A079</td>\n",
              "      <td>69</td>\n",
              "      <td>0.213980</td>\n",
              "      <td>1.31140</td>\n",
              "      <td>-0.32747</td>\n",
              "      <td>-0.234260</td>\n",
              "      <td>Infiltrating Ductal Carcinoma</td>\n",
              "      <td>Positive</td>\n",
              "      <td>Negative</td>\n",
              "      <td>Other</td>\n",
              "      <td>2017-09-08</td>\n",
              "      <td>2018-06-09</td>\n",
              "      <td>0</td>\n",
              "      <td>0</td>\n",
              "      <td>3</td>\n",
              "    </tr>\n",
              "    <tr>\n",
              "      <th>3</th>\n",
              "      <td>TCGA-D8-A1XR</td>\n",
              "      <td>56</td>\n",
              "      <td>0.345090</td>\n",
              "      <td>-0.21147</td>\n",
              "      <td>-0.19304</td>\n",
              "      <td>0.124270</td>\n",
              "      <td>Infiltrating Ductal Carcinoma</td>\n",
              "      <td>Positive</td>\n",
              "      <td>Negative</td>\n",
              "      <td>Modified Radical Mastectomy</td>\n",
              "      <td>2017-01-25</td>\n",
              "      <td>2017-07-12</td>\n",
              "      <td>0</td>\n",
              "      <td>0</td>\n",
              "      <td>2</td>\n",
              "    </tr>\n",
              "    <tr>\n",
              "      <th>4</th>\n",
              "      <td>TCGA-BH-A0BF</td>\n",
              "      <td>56</td>\n",
              "      <td>0.221550</td>\n",
              "      <td>1.90680</td>\n",
              "      <td>0.52045</td>\n",
              "      <td>-0.311990</td>\n",
              "      <td>Infiltrating Ductal Carcinoma</td>\n",
              "      <td>Positive</td>\n",
              "      <td>Negative</td>\n",
              "      <td>Other</td>\n",
              "      <td>2017-05-06</td>\n",
              "      <td>2019-06-27</td>\n",
              "      <td>0</td>\n",
              "      <td>1</td>\n",
              "      <td>2</td>\n",
              "    </tr>\n",
              "    <tr>\n",
              "      <th>...</th>\n",
              "      <td>...</td>\n",
              "      <td>...</td>\n",
              "      <td>...</td>\n",
              "      <td>...</td>\n",
              "      <td>...</td>\n",
              "      <td>...</td>\n",
              "      <td>...</td>\n",
              "      <td>...</td>\n",
              "      <td>...</td>\n",
              "      <td>...</td>\n",
              "      <td>...</td>\n",
              "      <td>...</td>\n",
              "      <td>...</td>\n",
              "      <td>...</td>\n",
              "      <td>...</td>\n",
              "    </tr>\n",
              "    <tr>\n",
              "      <th>329</th>\n",
              "      <td>TCGA-AN-A04A</td>\n",
              "      <td>36</td>\n",
              "      <td>0.231800</td>\n",
              "      <td>0.61804</td>\n",
              "      <td>-0.55779</td>\n",
              "      <td>-0.517350</td>\n",
              "      <td>Infiltrating Ductal Carcinoma</td>\n",
              "      <td>Positive</td>\n",
              "      <td>Positive</td>\n",
              "      <td>Simple Mastectomy</td>\n",
              "      <td>2019-11-11</td>\n",
              "      <td>2020-02-09</td>\n",
              "      <td>0</td>\n",
              "      <td>1</td>\n",
              "      <td>3</td>\n",
              "    </tr>\n",
              "    <tr>\n",
              "      <th>330</th>\n",
              "      <td>TCGA-A8-A085</td>\n",
              "      <td>44</td>\n",
              "      <td>0.732720</td>\n",
              "      <td>1.11170</td>\n",
              "      <td>-0.26952</td>\n",
              "      <td>-0.354920</td>\n",
              "      <td>Infiltrating Lobular Carcinoma</td>\n",
              "      <td>Positive</td>\n",
              "      <td>Negative</td>\n",
              "      <td>Other</td>\n",
              "      <td>2019-11-01</td>\n",
              "      <td>2020-03-04</td>\n",
              "      <td>1</td>\n",
              "      <td>1</td>\n",
              "      <td>2</td>\n",
              "    </tr>\n",
              "    <tr>\n",
              "      <th>331</th>\n",
              "      <td>TCGA-A1-A0SG</td>\n",
              "      <td>61</td>\n",
              "      <td>-0.719470</td>\n",
              "      <td>2.54850</td>\n",
              "      <td>-0.15024</td>\n",
              "      <td>0.339680</td>\n",
              "      <td>Infiltrating Ductal Carcinoma</td>\n",
              "      <td>Positive</td>\n",
              "      <td>Negative</td>\n",
              "      <td>Lumpectomy</td>\n",
              "      <td>2019-11-11</td>\n",
              "      <td>2021-01-18</td>\n",
              "      <td>0</td>\n",
              "      <td>1</td>\n",
              "      <td>2</td>\n",
              "    </tr>\n",
              "    <tr>\n",
              "      <th>332</th>\n",
              "      <td>TCGA-A2-A0EU</td>\n",
              "      <td>79</td>\n",
              "      <td>0.479400</td>\n",
              "      <td>2.05590</td>\n",
              "      <td>-0.53136</td>\n",
              "      <td>-0.188480</td>\n",
              "      <td>Infiltrating Ductal Carcinoma</td>\n",
              "      <td>Positive</td>\n",
              "      <td>Positive</td>\n",
              "      <td>Lumpectomy</td>\n",
              "      <td>2019-11-21</td>\n",
              "      <td>2021-02-19</td>\n",
              "      <td>0</td>\n",
              "      <td>1</td>\n",
              "      <td>1</td>\n",
              "    </tr>\n",
              "    <tr>\n",
              "      <th>333</th>\n",
              "      <td>TCGA-B6-A40B</td>\n",
              "      <td>76</td>\n",
              "      <td>-0.244270</td>\n",
              "      <td>0.92556</td>\n",
              "      <td>-0.41823</td>\n",
              "      <td>-0.067848</td>\n",
              "      <td>Infiltrating Ductal Carcinoma</td>\n",
              "      <td>Positive</td>\n",
              "      <td>Negative</td>\n",
              "      <td>Lumpectomy</td>\n",
              "      <td>2019-11-11</td>\n",
              "      <td>2021-01-05</td>\n",
              "      <td>0</td>\n",
              "      <td>1</td>\n",
              "      <td>1</td>\n",
              "    </tr>\n",
              "  </tbody>\n",
              "</table>\n",
              "<p>321 rows × 15 columns</p>\n",
              "</div>"
            ],
            "text/plain": [
              "       Patient_ID  Age  Protein1  ...  gender  patient_status  tumour_stage\n",
              "0    TCGA-D8-A1XD   36  0.080353  ...       0               0             3\n",
              "1    TCGA-EW-A1OX   43 -0.420320  ...       0               1             2\n",
              "2    TCGA-A8-A079   69  0.213980  ...       0               0             3\n",
              "3    TCGA-D8-A1XR   56  0.345090  ...       0               0             2\n",
              "4    TCGA-BH-A0BF   56  0.221550  ...       0               1             2\n",
              "..            ...  ...       ...  ...     ...             ...           ...\n",
              "329  TCGA-AN-A04A   36  0.231800  ...       0               1             3\n",
              "330  TCGA-A8-A085   44  0.732720  ...       1               1             2\n",
              "331  TCGA-A1-A0SG   61 -0.719470  ...       0               1             2\n",
              "332  TCGA-A2-A0EU   79  0.479400  ...       0               1             1\n",
              "333  TCGA-B6-A40B   76 -0.244270  ...       0               1             1\n",
              "\n",
              "[321 rows x 15 columns]"
            ]
          },
          "metadata": {},
          "execution_count": 107
        }
      ]
    },
    {
      "cell_type": "code",
      "metadata": {
        "colab": {
          "base_uri": "https://localhost:8080/",
          "height": 321
        },
        "id": "vYBg7X8py4ij",
        "outputId": "95d2909f-1c57-4acd-f36c-ded006509429"
      },
      "source": [
        "# Visualizing the data about age\n",
        "plt.figure(figsize=(30,5))\n",
        "sns.scatterplot(clear_data.Age, clear_data.patient_status)\n",
        "# We see, that there is no correlation between age and death"
      ],
      "execution_count": 106,
      "outputs": [
        {
          "output_type": "stream",
          "text": [
            "/usr/local/lib/python3.7/dist-packages/seaborn/_decorators.py:43: FutureWarning: Pass the following variables as keyword args: x, y. From version 0.12, the only valid positional argument will be `data`, and passing other arguments without an explicit keyword will result in an error or misinterpretation.\n",
            "  FutureWarning\n"
          ],
          "name": "stderr"
        },
        {
          "output_type": "execute_result",
          "data": {
            "text/plain": [
              "<matplotlib.axes._subplots.AxesSubplot at 0x7fe7f378c110>"
            ]
          },
          "metadata": {},
          "execution_count": 106
        },
        {
          "output_type": "display_data",
          "data": {
            "image/png": "[encoded data removed]",
            "text/plain": [
              "<Figure size 2160x360 with 1 Axes>"
            ]
          },
          "metadata": {
            "needs_background": "light"
          }
        }
      ]
    },
    {
      "cell_type": "code",
      "metadata": {
        "colab": {
          "base_uri": "https://localhost:8080/",
          "height": 322
        },
        "id": "hQ6HRE3Wzs-m",
        "outputId": "4bf9d703-badf-4c50-d540-4af598a79b8b"
      },
      "source": [
        "# Trying to visualize surgery \n",
        "plt.figure(figsize=(30,5))\n",
        "sns.scatterplot(clear_data.date_of_surgery, clear_data.patient_status)\n",
        "# We see, that surgery did not work as well in the period 2018.01 - 2019.05\n",
        "# But there are another factors"
      ],
      "execution_count": 109,
      "outputs": [
        {
          "output_type": "stream",
          "text": [
            "/usr/local/lib/python3.7/dist-packages/seaborn/_decorators.py:43: FutureWarning: Pass the following variables as keyword args: x, y. From version 0.12, the only valid positional argument will be `data`, and passing other arguments without an explicit keyword will result in an error or misinterpretation.\n",
            "  FutureWarning\n"
          ],
          "name": "stderr"
        },
        {
          "output_type": "execute_result",
          "data": {
            "text/plain": [
              "<matplotlib.axes._subplots.AxesSubplot at 0x7fe7f36df990>"
            ]
          },
          "metadata": {},
          "execution_count": 109
        },
        {
          "output_type": "display_data",
          "data": {
            "image/png": "[encoded data removed]",
            "text/plain": [
              "<Figure size 2160x360 with 1 Axes>"
            ]
          },
          "metadata": {
            "needs_background": "light"
          }
        }
      ]
    },
    {
      "cell_type": "code",
      "metadata": {
        "colab": {
          "base_uri": "https://localhost:8080/",
          "height": 355
        },
        "id": "okANDfUO1ZZp",
        "outputId": "a3cce7e7-bf03-4241-ca8b-d1cc73267771"
      },
      "source": [
        "# Visualizing sugery_type\n",
        "plt.figure(figsize=(30,5))\n",
        "sns.lineplot(clear_data.Surgery_type, clear_data.patient_status)\n",
        "sns.barplot(clear_data.Surgery_type, clear_data.patient_status)\n",
        "# Different surgeries have different effect"
      ],
      "execution_count": 113,
      "outputs": [
        {
          "output_type": "stream",
          "text": [
            "/usr/local/lib/python3.7/dist-packages/seaborn/_decorators.py:43: FutureWarning: Pass the following variables as keyword args: x, y. From version 0.12, the only valid positional argument will be `data`, and passing other arguments without an explicit keyword will result in an error or misinterpretation.\n",
            "  FutureWarning\n",
            "/usr/local/lib/python3.7/dist-packages/seaborn/_decorators.py:43: FutureWarning: Pass the following variables as keyword args: x, y. From version 0.12, the only valid positional argument will be `data`, and passing other arguments without an explicit keyword will result in an error or misinterpretation.\n",
            "  FutureWarning\n"
          ],
          "name": "stderr"
        },
        {
          "output_type": "execute_result",
          "data": {
            "text/plain": [
              "<matplotlib.axes._subplots.AxesSubplot at 0x7fe7f2ef6c10>"
            ]
          },
          "metadata": {},
          "execution_count": 113
        },
        {
          "output_type": "display_data",
          "data": {
            "image/png": "[encoded data removed]",
            "text/plain": [
              "<Figure size 2160x360 with 1 Axes>"
            ]
          },
          "metadata": {
            "needs_background": "light"
          }
        }
      ]
    }
  ]
}